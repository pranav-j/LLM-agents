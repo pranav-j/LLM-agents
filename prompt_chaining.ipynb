{
  "nbformat": 4,
  "nbformat_minor": 0,
  "metadata": {
    "colab": {
      "provenance": [],
      "authorship_tag": "ABX9TyP/Cjwugi1OJz0vs5jrRGkf",
      "include_colab_link": true
    },
    "kernelspec": {
      "name": "python3",
      "display_name": "Python 3"
    },
    "language_info": {
      "name": "python"
    }
  },
  "cells": [
    {
      "cell_type": "markdown",
      "metadata": {
        "id": "view-in-github",
        "colab_type": "text"
      },
      "source": [
        "<a href=\"https://colab.research.google.com/github/pranav-j/LLM-agents/blob/main/prompt_chaining.ipynb\" target=\"_parent\"><img src=\"https://colab.research.google.com/assets/colab-badge.svg\" alt=\"Open In Colab\"/></a>"
      ]
    },
    {
      "cell_type": "markdown",
      "source": [
        "## Prompt Chaining"
      ],
      "metadata": {
        "id": "MKGpk9NL7AV2"
      }
    },
    {
      "cell_type": "markdown",
      "source": [
        "Here I have used pydantic to define different data models."
      ],
      "metadata": {
        "id": "Cwqt4srL7Rif"
      }
    },
    {
      "cell_type": "code",
      "source": [
        "from typing import Optional\n",
        "from datetime import datetime\n",
        "from pydantic import BaseModel, Field\n",
        "from openai import OpenAI\n",
        "import os\n",
        "import logging"
      ],
      "metadata": {
        "id": "ZQz1ja4w69dG"
      },
      "execution_count": null,
      "outputs": []
    },
    {
      "cell_type": "code",
      "source": [
        "# Set up logging configuration\n",
        "logging.basicConfig(\n",
        "    level=logging.INFO,\n",
        "    format=\"%(asctime)s - %(levelname)s - %(message)s\",\n",
        "    datefmt=\"%Y-%m-%d %H:%M:%S\",\n",
        ")\n",
        "logger = logging.getLogger(__name__)\n",
        "\n",
        "client = OpenAI(api_key=os.getenv(\"OPENAI_API_KEY\"))\n",
        "model = \"gpt-4o\""
      ],
      "metadata": {
        "id": "Ycj3pv6P7NI7"
      },
      "execution_count": null,
      "outputs": []
    },
    {
      "cell_type": "markdown",
      "source": [
        "\n",
        "## Define the data models for each stage\n"
      ],
      "metadata": {
        "id": "mGJfOtKD7oKs"
      }
    },
    {
      "cell_type": "code",
      "source": [
        "class EventExtraction(BaseModel):\n",
        "    \"\"\"First LLM call: Extract basic event information\"\"\"\n",
        "\n",
        "    description: str = Field(description=\"Raw description of the event\")\n",
        "    is_calendar_event: bool = Field(\n",
        "        description=\"Whether this text describes a calendar event\"\n",
        "    )\n",
        "    confidence_score: float = Field(description=\"Confidence score between 0 and 1\")\n",
        "\n",
        "\n",
        "class EventDetails(BaseModel):\n",
        "    \"\"\"Second LLM call: Parse specific event details\"\"\"\n",
        "\n",
        "    name: str = Field(description=\"Name of the event\")\n",
        "    date: str = Field(\n",
        "        description=\"Date and time of the event. Use ISO 8601 to format this value.\"\n",
        "    )\n",
        "    duration_minutes: int = Field(description=\"Expected duration in minutes\")\n",
        "    participants: list[str] = Field(description=\"List of participants\")\n",
        "\n",
        "\n",
        "class EventConfirmation(BaseModel):\n",
        "    \"\"\"Third LLM call: Generate confirmation message\"\"\"\n",
        "\n",
        "    confirmation_message: str = Field(\n",
        "        description=\"Natural language confirmation message\"\n",
        "    )\n",
        "    calendar_link: Optional[str] = Field(\n",
        "        description=\"Generated calendar link if applicable\"\n",
        "    )\n"
      ],
      "metadata": {
        "id": "hF7IsbpN7ht_"
      },
      "execution_count": null,
      "outputs": []
    },
    {
      "cell_type": "markdown",
      "source": [
        "## Step 2: Define the functions\n"
      ],
      "metadata": {
        "id": "ZPFgMP9F727I"
      }
    },
    {
      "cell_type": "code",
      "execution_count": null,
      "metadata": {
        "id": "ljo0nwFS6FwR"
      },
      "outputs": [],
      "source": [
        "def extract_event_info(user_input: str) -> EventExtraction:\n",
        "    \"\"\"First LLM call to determine if input is a calendar event\"\"\"\n",
        "    logger.info(\"Starting event extraction analysis\")\n",
        "    logger.debug(f\"Input text: {user_input}\")\n",
        "\n",
        "    today = datetime.now()\n",
        "    date_context = f\"Today is {today.strftime('%A, %B %d, %Y')}.\"\n",
        "\n",
        "    completion = client.beta.chat.completions.parse(\n",
        "        model=model,\n",
        "        messages=[\n",
        "            {\n",
        "                \"role\": \"system\",\n",
        "                \"content\": f\"{date_context} Analyze if the text describes a calendar event.\",\n",
        "            },\n",
        "            {\"role\": \"user\", \"content\": user_input},\n",
        "        ],\n",
        "        response_format=EventExtraction,\n",
        "    )\n",
        "    result = completion.choices[0].message.parsed\n",
        "    logger.info(\n",
        "        f\"Extraction complete - Is calendar event: {result.is_calendar_event}, Confidence: {result.confidence_score:.2f}\"\n",
        "    )\n",
        "    return result\n",
        "\n",
        "\n",
        "def parse_event_details(description: str) -> EventDetails:\n",
        "    \"\"\"Second LLM call to extract specific event details\"\"\"\n",
        "    logger.info(\"Starting event details parsing\")\n",
        "\n",
        "    today = datetime.now()\n",
        "    date_context = f\"Today is {today.strftime('%A, %B %d, %Y')}.\"\n",
        "\n",
        "    completion = client.beta.chat.completions.parse(\n",
        "        model=model,\n",
        "        messages=[\n",
        "            {\n",
        "                \"role\": \"system\",\n",
        "                \"content\": f\"{date_context} Extract detailed event information. When dates reference 'next Tuesday' or similar relative dates, use this current date as reference.\",\n",
        "            },\n",
        "            {\"role\": \"user\", \"content\": description},\n",
        "        ],\n",
        "        response_format=EventDetails,\n",
        "    )\n",
        "    result = completion.choices[0].message.parsed\n",
        "    logger.info(\n",
        "        f\"Parsed event details - Name: {result.name}, Date: {result.date}, Duration: {result.duration_minutes}min\"\n",
        "    )\n",
        "    logger.debug(f\"Participants: {', '.join(result.participants)}\")\n",
        "    return result\n",
        "\n",
        "\n",
        "def generate_confirmation(event_details: EventDetails) -> EventConfirmation:\n",
        "    \"\"\"Third LLM call to generate a confirmation message\"\"\"\n",
        "    logger.info(\"Generating confirmation message\")\n",
        "\n",
        "    completion = client.beta.chat.completions.parse(\n",
        "        model=model,\n",
        "        messages=[\n",
        "            {\n",
        "                \"role\": \"system\",\n",
        "                \"content\": \"Generate a natural confirmation message for the event. Sign of with your name; Susie\",\n",
        "            },\n",
        "            {\"role\": \"user\", \"content\": str(event_details.model_dump())},\n",
        "        ],\n",
        "        response_format=EventConfirmation,\n",
        "    )\n",
        "    result = completion.choices[0].message.parsed\n",
        "    logger.info(\"Confirmation message generated successfully\")\n",
        "    return result\n",
        "\n"
      ]
    },
    {
      "cell_type": "markdown",
      "source": [
        "## Step 3: Chain the functions together"
      ],
      "metadata": {
        "id": "ecaN0KVM8FaZ"
      }
    },
    {
      "cell_type": "code",
      "source": [
        "\n",
        "def process_calendar_request(user_input: str) -> Optional[EventConfirmation]:\n",
        "    \"\"\"Main function implementing the prompt chain with gate check\"\"\"\n",
        "    logger.info(\"Processing calendar request\")\n",
        "    logger.debug(f\"Raw input: {user_input}\")\n",
        "\n",
        "    # First LLM call: Extract basic info\n",
        "    initial_extraction = extract_event_info(user_input)\n",
        "\n",
        "    # Gate check: Verify if it's a calendar event with sufficient confidence\n",
        "    if (\n",
        "        not initial_extraction.is_calendar_event\n",
        "        or initial_extraction.confidence_score < 0.7\n",
        "    ):\n",
        "        logger.warning(\n",
        "            f\"Gate check failed - is_calendar_event: {initial_extraction.is_calendar_event}, confidence: {initial_extraction.confidence_score:.2f}\"\n",
        "        )\n",
        "        return None\n",
        "\n",
        "    logger.info(\"Gate check passed, proceeding with event processing\")\n",
        "\n",
        "    # Second LLM call: Get detailed event information\n",
        "    event_details = parse_event_details(initial_extraction.description)\n",
        "\n",
        "    # Third LLM call: Generate confirmation\n",
        "    confirmation = generate_confirmation(event_details)\n",
        "\n",
        "    logger.info(\"Calendar request processing completed successfully\")\n",
        "    return confirmation\n",
        "\n"
      ],
      "metadata": {
        "id": "ylqNS1EU8B47"
      },
      "execution_count": null,
      "outputs": []
    },
    {
      "cell_type": "markdown",
      "source": [
        "## Step 4: Test the chain with a valid input"
      ],
      "metadata": {
        "id": "XvkBVigb8R9l"
      }
    },
    {
      "cell_type": "code",
      "source": [
        "\n",
        "user_input = \"Let's schedule a 1h team meeting next Tuesday at 2pm with Alice and Bob to discuss the project roadmap.\"\n",
        "\n",
        "result = process_calendar_request(user_input)\n",
        "if result:\n",
        "    print(f\"Confirmation: {result.confirmation_message}\")\n",
        "    if result.calendar_link:\n",
        "        print(f\"Calendar Link: {result.calendar_link}\")\n",
        "else:\n",
        "    print(\"This doesn't appear to be a calendar event request.\")\n",
        "\n"
      ],
      "metadata": {
        "id": "aQ-JpnYa8QDE"
      },
      "execution_count": null,
      "outputs": []
    },
    {
      "cell_type": "markdown",
      "source": [
        "## Step 5: Test the chain with an invalid input"
      ],
      "metadata": {
        "id": "3HTocx_X8YCU"
      }
    },
    {
      "cell_type": "code",
      "source": [
        "user_input = \"Can you send an email to Alice and Bob to discuss the project roadmap?\"\n",
        "\n",
        "result = process_calendar_request(user_input)\n",
        "if result:\n",
        "    print(f\"Confirmation: {result.confirmation_message}\")\n",
        "    if result.calendar_link:\n",
        "        print(f\"Calendar Link: {result.calendar_link}\")\n",
        "else:\n",
        "    print(\"This doesn't appear to be a calendar event request.\")"
      ],
      "metadata": {
        "id": "JLzCIS5w8WQh"
      },
      "execution_count": null,
      "outputs": []
    }
  ]
}