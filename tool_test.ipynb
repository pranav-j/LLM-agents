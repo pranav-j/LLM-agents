{
  "nbformat": 4,
  "nbformat_minor": 0,
  "metadata": {
    "colab": {
      "provenance": [],
      "authorship_tag": "ABX9TyPfej5z5xWyBAZ5IHtKDyke",
      "include_colab_link": true
    },
    "kernelspec": {
      "name": "python3",
      "display_name": "Python 3"
    },
    "language_info": {
      "name": "python"
    }
  },
  "cells": [
    {
      "cell_type": "markdown",
      "metadata": {
        "id": "view-in-github",
        "colab_type": "text"
      },
      "source": [
        "<a href=\"https://colab.research.google.com/github/pranav-j/LLM-agents/blob/main/tool_test.ipynb\" target=\"_parent\"><img src=\"https://colab.research.google.com/assets/colab-badge.svg\" alt=\"Open In Colab\"/></a>"
      ]
    },
    {
      "cell_type": "code",
      "source": [
        "import json\n",
        "import os\n",
        "\n",
        "import requests\n",
        "from openai import OpenAI\n",
        "from pydantic import BaseModel, Field"
      ],
      "metadata": {
        "id": "PREYnNlD3_mj"
      },
      "execution_count": 1,
      "outputs": []
    },
    {
      "cell_type": "code",
      "source": [
        "client = OpenAI(api_key=\"OPENAI_API_KEY\")\n"
      ],
      "metadata": {
        "id": "gdoo1Cx04Mir"
      },
      "execution_count": 3,
      "outputs": []
    },
    {
      "cell_type": "markdown",
      "source": [
        "## Define the tool (function) that we want to call"
      ],
      "metadata": {
        "id": "FzVlciHH4dKZ"
      }
    },
    {
      "cell_type": "code",
      "source": [
        "\n",
        "def get_weather(latitude, longitude):\n",
        "    \"\"\"This is a publically available API that returns the weather for a given location.\"\"\"\n",
        "    response = requests.get(\n",
        "        f\"https://api.open-meteo.com/v1/forecast?latitude={latitude}&longitude={longitude}&current=temperature_2m,wind_speed_10m&hourly=temperature_2m,relative_humidity_2m,wind_speed_10m\"\n",
        "    )\n",
        "    data = response.json()\n",
        "    return data[\"current\"]\n",
        "\n"
      ],
      "metadata": {
        "id": "v-L0MlV34zTn"
      },
      "execution_count": 4,
      "outputs": []
    },
    {
      "cell_type": "code",
      "execution_count": null,
      "metadata": {
        "id": "AUfsmOJH0DNs"
      },
      "outputs": [],
      "source": [
        "\n",
        "# --------------------------------------------------------------\n",
        "# Step 1: Call model with get_weather tool defined\n",
        "# --------------------------------------------------------------\n",
        "\n",
        "tools = [\n",
        "    {\n",
        "        \"type\": \"function\",\n",
        "        \"function\": {\n",
        "            \"name\": \"get_weather\",\n",
        "            \"description\": \"Get current temperature for provided coordinates in celsius.\",\n",
        "            \"parameters\": {\n",
        "                \"type\": \"object\",\n",
        "                \"properties\": {\n",
        "                    \"latitude\": {\"type\": \"number\"},\n",
        "                    \"longitude\": {\"type\": \"number\"},\n",
        "                },\n",
        "                \"required\": [\"latitude\", \"longitude\"],\n",
        "                \"additionalProperties\": False,\n",
        "            },\n",
        "            \"strict\": True,\n",
        "        },\n",
        "    }\n",
        "]\n",
        "\n",
        "system_prompt = \"You are a helpful weather assistant.\"\n",
        "\n",
        "messages = [\n",
        "    {\"role\": \"system\", \"content\": system_prompt},\n",
        "    {\"role\": \"user\", \"content\": \"What's the weather like in Paris today?\"},\n",
        "]\n",
        "\n",
        "completion = client.chat.completions.create(\n",
        "    model=\"gpt-4o\",\n",
        "    messages=messages,\n",
        "    tools=tools,\n",
        ")\n",
        "\n",
        "# --------------------------------------------------------------\n",
        "# Step 2: Model decides to call function(s)\n",
        "# --------------------------------------------------------------\n",
        "\n",
        "completion.model_dump()\n",
        "\n",
        "# --------------------------------------------------------------\n",
        "# Step 3: Execute get_weather function\n",
        "# --------------------------------------------------------------\n",
        "\n",
        "\n",
        "def call_function(name, args):\n",
        "    if name == \"get_weather\":\n",
        "        return get_weather(**args)\n",
        "\n",
        "\n",
        "for tool_call in completion.choices[0].message.tool_calls:\n",
        "    name = tool_call.function.name\n",
        "    args = json.loads(tool_call.function.arguments)\n",
        "    messages.append(completion.choices[0].message)\n",
        "\n",
        "    result = call_function(name, args)\n",
        "    messages.append(\n",
        "        {\"role\": \"tool\", \"tool_call_id\": tool_call.id, \"content\": json.dumps(result)}\n",
        "    )\n",
        "\n",
        "# --------------------------------------------------------------\n",
        "# Step 4: Supply result and call model again\n",
        "# --------------------------------------------------------------\n",
        "\n",
        "\n",
        "class WeatherResponse(BaseModel):\n",
        "    temperature: float = Field(\n",
        "        description=\"The current temperature in celsius for the given location.\"\n",
        "    )\n",
        "    response: str = Field(\n",
        "        description=\"A natural language response to the user's question.\"\n",
        "    )\n",
        "\n"
      ]
    },
    {
      "cell_type": "code",
      "source": [
        "\n",
        "completion_2 = client.beta.chat.completions.parse(\n",
        "    model=\"gpt-4o\",\n",
        "    messages=messages,\n",
        "    tools=tools,\n",
        "    response_format=WeatherResponse,\n",
        ")\n",
        "\n"
      ],
      "metadata": {
        "id": "CdzAqc3Z5WPm"
      },
      "execution_count": null,
      "outputs": []
    },
    {
      "cell_type": "markdown",
      "source": [
        "## Step 5: Check model response"
      ],
      "metadata": {
        "id": "Al59Dgo45itQ"
      }
    },
    {
      "cell_type": "code",
      "source": [
        "final_response = completion_2.choices[0].message.parsed\n",
        "final_response.temperature\n",
        "final_response.response"
      ],
      "metadata": {
        "id": "GBGIhJhs5how"
      },
      "execution_count": null,
      "outputs": []
    }
  ]
}